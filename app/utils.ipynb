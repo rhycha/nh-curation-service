{
 "cells": [
  {
   "cell_type": "code",
   "execution_count": 6,
   "metadata": {},
   "outputs": [],
   "source": [
    "path = \"../data/\"\n",
    "import os\n",
    "# get all the file names starts with NH_CONTEST\n",
    "files = [f for f in os.listdir(path) if f.startswith(\"NH_CONTEST\")]\n",
    "files\n",
    "\n",
    "# make sample csv file from csv files become reduced size and save it with prefix small_\n",
    "# and save it to pdf in same path\n",
    "\n",
    "import pandas as pd\n",
    "\n",
    "\n",
    "charenc = 'cp949'\n",
    "# assuming files is the list of file names you obtained earlier\n",
    "for file in files:\n",
    "    # read the csv file\n",
    "    df = pd.read_csv(os.path.join(path, file), encoding=charenc)\n",
    "    \n",
    "    # reduce the size of the dataframe (e.g., take a random sample of 100 rows)\n",
    "    small_df = df.sample(n=100)\n",
    "    \n",
    "    # save the smaller dataframe to a new csv file with prefix \"small_\"\n",
    "    small_file_name = f\"small_{file}\"\n",
    "    small_df.to_csv(os.path.join(path, small_file_name), index=False, encoding=charenc)"
   ]
  },
  {
   "cell_type": "code",
   "execution_count": null,
   "metadata": {},
   "outputs": [],
   "source": []
  }
 ],
 "metadata": {
  "kernelspec": {
   "display_name": "2024-samsung-ai-challenge-black-box-optimi-ifEpN1A1-py3.12",
   "language": "python",
   "name": "python3"
  },
  "language_info": {
   "codemirror_mode": {
    "name": "ipython",
    "version": 3
   },
   "file_extension": ".py",
   "mimetype": "text/x-python",
   "name": "python",
   "nbconvert_exporter": "python",
   "pygments_lexer": "ipython3",
   "version": "3.12.6"
  }
 },
 "nbformat": 4,
 "nbformat_minor": 2
}
